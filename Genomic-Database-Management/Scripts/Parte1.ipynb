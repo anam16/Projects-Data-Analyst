{
 "cells": [
  {
   "cell_type": "markdown",
   "id": "e7628058-11a0-4935-8e0f-32683587a2f0",
   "metadata": {},
   "source": [
    "## **Parte 1**"
   ]
  },
  {
   "cell_type": "markdown",
   "id": "3187297d-010c-4482-9d0d-3f4bf6461455",
   "metadata": {},
   "source": [
    "Para comenzar esta práctica, tenemos que acceder a la base de datos MySQL con nuestros datos"
   ]
  },
  {
   "cell_type": "code",
   "execution_count": 1,
   "id": "a9aede6e-8745-4d6f-8d87-0f6cb89dbb88",
   "metadata": {},
   "outputs": [
    {
     "name": "stdin",
     "output_type": "stream",
     "text": [
      "Introduce tu nombre de usuario de MySQL:  alubio15\n",
      "Introduce tu contraseña de MySQL:  alubio15PW-\n",
      "Introduce el nombre de la base de datos a la cual quieres acceder:  alubio15\n"
     ]
    },
    {
     "name": "stdout",
     "output_type": "stream",
     "text": [
      "<mysql.connector.connection_cext.CMySQLConnection object at 0x7f92b0b90d60>\n"
     ]
    }
   ],
   "source": [
    "import mysql.connector\n",
    "usuario=input(\"Introduce tu nombre de usuario de MySQL: \")\n",
    "contraseña=input(\"Introduce tu contraseña de MySQL: \")\n",
    "BD=input(\"Introduce el nombre de la base de datos a la cual quieres acceder: \")\n",
    "mydb = mysql.connector.connect(\n",
    "    host=\"dayhoff.inf.um.es\",\n",
    "    user=usuario,#Usuario\n",
    "    password=contraseña,#contraseña\n",
    "    database=BD #esquema\n",
    ")\n",
    "\n",
    "print(mydb)\n",
    "mycursor = mydb.cursor()"
   ]
  },
  {
   "cell_type": "markdown",
   "id": "6085e96e-6099-48c3-ace9-9e9d601d322d",
   "metadata": {},
   "source": [
    "Una vez conectados, se procede a crear la tabla denominada genep2"
   ]
  },
  {
   "cell_type": "code",
   "execution_count": 3,
   "id": "9f25b65e-fdf9-467f-adce-9ca69370355d",
   "metadata": {},
   "outputs": [],
   "source": [
    "mycursor.execute(\"CREATE TABLE genep2 (gene_ensembl varchar(255) NOT NULL, gene_symbol varchar(255) NOT NULL, PRIMARY KEY (gene_ensembl))\")"
   ]
  },
  {
   "cell_type": "markdown",
   "id": "5cd9bf0b-7e83-453f-aedc-00cff16b43c1",
   "metadata": {},
   "source": [
    "Con la tabla creada, se procede a introducirle valores. Estos valores los conseguimos del csv denominado genes.csv"
   ]
  },
  {
   "cell_type": "code",
   "execution_count": 4,
   "id": "288d1e80-54c3-4bc3-9527-37a298dacbe9",
   "metadata": {},
   "outputs": [
    {
     "name": "stdout",
     "output_type": "stream",
     "text": [
      "5 filas insertadas\n"
     ]
    }
   ],
   "source": [
    "import csv\n",
    "with open (\"genes.csv\",mode=\"r\") as csv_file:\n",
    "    csv_reader = csv.DictReader(csv_file,delimiter=\",\") #Se usa el método DictReader para que use la cabecera del CSV como claves del diccionario\n",
    "    lista_filas = [] #Se crea una lista para guardar lo valores del CSV y posteriormente introducirlos en la tabla de MySQL\n",
    "    for fila in csv_reader:\n",
    "        lista_filas.append(list(fila.values()))\n",
    "#Para introducir los valores en la tabla genep2 de MySQL\n",
    "sql_insert = \"INSERT INTO genep2 (gene_ensembl, gene_symbol) VALUES (%s, %s)\"\n",
    "mycursor.executemany(sql_insert, lista_filas)\n",
    "mydb.commit()\n",
    "print(mycursor.rowcount, \"filas insertadas\")"
   ]
  },
  {
   "cell_type": "markdown",
   "id": "6c1ce4b3-12d1-416c-a8d7-f7917b295d96",
   "metadata": {},
   "source": [
    "A continuación, se procede a crear la tabla denominada proteinp2 en MySQL"
   ]
  },
  {
   "cell_type": "code",
   "execution_count": 5,
   "id": "61999f2a-221b-4c0d-b8b7-3498cec3e839",
   "metadata": {},
   "outputs": [],
   "source": [
    "mycursor.execute(\"CREATE TABLE proteinp2 (protein_ensembl varchar(255) NOT NULL, gene_ensembl varchar(255) NOT NULL, sequence longtext, PRIMARY KEY (protein_ensembl), CONSTRAINT fk_protein_1 FOREIGN KEY (gene_ensembl) REFERENCES genep2 (gene_ensembl))\")"
   ]
  },
  {
   "cell_type": "markdown",
   "id": "620e7171-7522-4957-abd2-1aab8dd07d4c",
   "metadata": {},
   "source": [
    "Una vez creada dicha tabla, se procede a introducirle valores. Estos valores se consegirán conectandonos a dos servicios REST disponibles en Internet. Del primer servicio se obtendrán los identificadores de las proteinas, mientras que del segundo se conseguirán los aminoácidos de las secuencias de las proteinas."
   ]
  },
  {
   "cell_type": "code",
   "execution_count": 28,
   "id": "c0699939-bbfe-4e92-89ff-b126a8634177",
   "metadata": {},
   "outputs": [],
   "source": [
    "import requests, sys\n",
    "\n",
    "def get_protein(gene_ensembl):\n",
    "    server = \"https://rest.ensembl.org\" #Dirección del ENDPOINT principal\n",
    "     #Parámetros de la función usando el gene_ensembl con protein y multiples secuencias\n",
    "    ext = \"/lookup/id/\"+gene_ensembl+\"?expand=1;\"\n",
    "    #Petición GET indicando que quiero que me devuelva en formato JSON\n",
    "    r = requests.get(server+ext, headers={ \"Content-Type\" : \"application/json\"})\n",
    "    #Si la petición es fallida doy error\n",
    "    if not r.ok:\n",
    "        print(\"Error en la llamada al servicio\", flush=True)\n",
    "        raise Exception (\" Ha fallado\")\n",
    "    decoded = r.json()\n",
    "    lista_ENSP=[] #se crea una lista que va a contener los valores del identificador de la proteina que empezará por ENSP\n",
    "    for i in range(len(decoded[\"Transcript\"])):\n",
    "        if \"Translation\" in decoded[\"Transcript\"][i]:\n",
    "            info=(decoded[\"Transcript\"][i][\"Translation\"][\"id\"])\n",
    "            lista_ENSP.append(info)\n",
    "    return lista_ENSP\n",
    "def get_sequence(id_prot):\n",
    "    server = \"https://rest.ensembl.org\" #Dirección del ENDPOINT principal\n",
    "    #Parámetros de la función usando el gene_ensembl con protein y multiples secuencias\n",
    "    ext = \"/sequence/id/\"+id_prot+\"?type=protein;multiple_sequences=1;extand=1;\"\n",
    "    #Petición GET indicando que quiero que me devuelva en formato JSON\n",
    "    r = requests.get(server+ext, headers={ \"Content-Type\" : \"application/json\"})\n",
    "     #Si la petición es fallida doy error\n",
    "    if not r.ok:\n",
    "        print(\"Error en la llamada al servicio\", flush=True)\n",
    "        raise Exception (\" Ha fallado\")\n",
    "    decoded = r.json()\n",
    "    lista_info = [decoded[0][\"id\"],decoded[0][\"seq\"]] #con esto se obtiene una lista con el identificador de la proteina y su secuencia de aminoácidos correspondiente\n",
    "    return lista_info"
   ]
  },
  {
   "cell_type": "markdown",
   "id": "79b2e7a2-c159-4871-a5f7-91d51a2de09f",
   "metadata": {},
   "source": [
    "<!-- Una vez creada, se procede a introducirle valores. Los valores para rellenar esta tabla los vamos a obtener accediendo a dos servicios, el primero será para conseguir los identificadores de las proteinas y el segundo para conseguir sus respectivas secuencias. -->"
   ]
  },
  {
   "cell_type": "markdown",
   "id": "30a1c6f3-8879-4ab6-8c28-5fe3d2ae78b3",
   "metadata": {},
   "source": [
    "De la tabla genep2, se procede a seleccionar los valores de gene_ensembl para poder pasarle estos valores a la función de get_protein y obtener los identificadores de proteinas correspodientes.Después, se introducen los valores de los identificadores de las proteinas a la función denominada get_sequence para sacar sus respectivas secuencias."
   ]
  },
  {
   "cell_type": "code",
   "execution_count": 29,
   "id": "6c9839d3-dcd4-4899-98f5-60a97746d927",
   "metadata": {},
   "outputs": [],
   "source": [
    "#Se usan los identificadores de genes de ensembl que hemos cargado desde el CSV para obtener los identificadores de las proteínas\n",
    "mycursor.execute(\"SELECT gene_ensembl FROM genep2\")\n",
    "myresult = mycursor.fetchall() #Le indicamos que nos cargue todos los valores recuperados\n",
    "lista_valores=[] #se define una lista para poder introducir los valores que se introduzcan en esta, en MySQL\n",
    "for x in myresult: #recorremos los resultados que nos devuelve mycursor.fetchall\n",
    "    gene_ENSG=x[0] #con esto nos quedamos con el nombre ENSG... de cada gen\n",
    "    for i in get_protein(x[0]): #introducimos el id de cada gen en la función get_protein \n",
    "        IPS=get_sequence(i) #IPS:id_proteina-seq, ya que de esta función, al introducirle el identificador de la proteina conseguido de la función get_protein, vamos a obtener el id_prot(ENSP..) y sus respectivas secuencias de aminoácidos\n",
    "        IPS.append(x[0]) #como la función get_sequence nos devuelve una lista le podemos añadir a dicha lista los valores del identificador del gen\n",
    "        lista_valores.append(IPS) #a la lista que le introduciremos a MySQL le añadimos la lista IPS\n",
    "        #print(lista_valores) si se imprime la lista_valores se puede observar como en la IPS[1] están las secuencias y en la IPS[2] los identificadores de los genes\n",
    "        #Hay que cambiar los valores de la lista de orden para poder introducir después del identificador de la proteina (ENSP), el identificador del gen(ENSG) y por último la secuencia de aminoácidos correspondiente\n",
    "        IPS[1],IPS[2]=IPS[2],IPS[1]"
   ]
  },
  {
   "cell_type": "markdown",
   "id": "8d27d49a-7a44-4bf8-b13e-01cd39e5eb1e",
   "metadata": {},
   "source": [
    "Por último, se procede a introducir los valores obtenidos anteriormente a la tabla denominada proteinp2 de MySQL."
   ]
  },
  {
   "cell_type": "code",
   "execution_count": 30,
   "id": "24800b89-0a38-4f03-b7e5-248eb9bdd958",
   "metadata": {},
   "outputs": [
    {
     "name": "stdout",
     "output_type": "stream",
     "text": [
      "37 filas insertadas\n"
     ]
    },
    {
     "data": {
      "text/plain": [
       "True"
      ]
     },
     "execution_count": 30,
     "metadata": {},
     "output_type": "execute_result"
    }
   ],
   "source": [
    "sql_insert = \"INSERT INTO proteinp2 (protein_ensembl,gene_ensembl, sequence) VALUES (%s,%s,%s)\"\n",
    "mycursor.executemany(sql_insert,lista_valores)\n",
    "mydb.commit()\n",
    "print(mycursor.rowcount, \"filas insertadas\")\n",
    "mycursor.close() "
   ]
  }
 ],
 "metadata": {
  "kernelspec": {
   "display_name": "Python3.8",
   "language": "python",
   "name": "python3.8"
  },
  "language_info": {
   "codemirror_mode": {
    "name": "ipython",
    "version": 3
   },
   "file_extension": ".py",
   "mimetype": "text/x-python",
   "name": "python",
   "nbconvert_exporter": "python",
   "pygments_lexer": "ipython3",
   "version": "3.8.3"
  }
 },
 "nbformat": 4,
 "nbformat_minor": 5
}
