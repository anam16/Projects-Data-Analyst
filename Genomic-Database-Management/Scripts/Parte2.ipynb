{
 "cells": [
  {
   "cell_type": "markdown",
   "id": "e7605074-0343-4a92-891f-ef685dbf13a3",
   "metadata": {},
   "source": [
    "## Parte 2 de la práctica."
   ]
  },
  {
   "cell_type": "markdown",
   "id": "46018710-4931-41fa-a213-87dd4a24cd07",
   "metadata": {},
   "source": [
    "El primer paso será cargar todos los imports"
   ]
  },
  {
   "cell_type": "code",
   "execution_count": 1,
   "id": "da6b2a09-f96a-45b5-ac35-667a90aff52d",
   "metadata": {},
   "outputs": [],
   "source": [
    "import mysql.connector\n",
    "import requests, sys\n",
    "import csv"
   ]
  },
  {
   "cell_type": "code",
   "execution_count": 2,
   "id": "9071faac-46ad-4cd1-a2cc-14c8c10766dc",
   "metadata": {},
   "outputs": [],
   "source": [
    "#Definimos una función para poder acceder a la base de datos MySQL\n",
    "def login():\n",
    "    print(\"Introduzca sus datos para poder acceder a la base de datos de MySQL\")\n",
    "\n",
    "    mydb = mysql.connector.connect(\n",
    "        host=\"dayhoff.inf.um.es\",\n",
    "        user=input(\"Introduce tu nombre de usuario de MySQL: \"),\n",
    "        password=input(\"Introduce tu contraseña de MySQL: \"),\n",
    "        database=input(\"Introduce el nombre de la base de datos a la cual quieres acceder: \")\n",
    "    )\n",
    "    \n",
    "    return mydb"
   ]
  },
  {
   "cell_type": "code",
   "execution_count": null,
   "id": "5fd5edff-7501-457a-a467-153a6004914c",
   "metadata": {},
   "outputs": [
    {
     "name": "stdout",
     "output_type": "stream",
     "text": [
      "Introduzca sus datos para poder acceder a la base de datos de MySQL\n"
     ]
    },
    {
     "name": "stdin",
     "output_type": "stream",
     "text": [
      "Introduce tu nombre de usuario de MySQL:  alubio15\n",
      "Introduce tu contraseña de MySQL:  alubio15PW-\n",
      "Introduce el nombre de la base de datos a la cual quieres acceder:  alubio15\n"
     ]
    },
    {
     "name": "stdout",
     "output_type": "stream",
     "text": [
      "\n",
      "\n",
      "1. Pulse 1 para el listado de los genes\n",
      "2. Pulse 2 para ver las proteinas de un gen \n",
      "3. Pulse 3 para ver la secuencia de la proteina\n",
      "4. Pulse 4 para salir del programa\n"
     ]
    },
    {
     "name": "stdin",
     "output_type": "stream",
     "text": [
      "\n",
      "Indique el opción que desea ejecutar (1, 2 , 3 , o 4):  1\n"
     ]
    },
    {
     "name": "stdout",
     "output_type": "stream",
     "text": [
      "gene_esembl: ENSG00000005961; gene_symbol: ITGA2B\n",
      "gene_esembl: ENSG00000088053; gene_symbol: GP6\n",
      "gene_esembl: ENSG00000107890; gene_symbol: ANKRD26\n",
      "gene_esembl: ENSG00000159216; gene_symbol: RUNX1\n",
      "gene_esembl: ENSG00000259207; gene_symbol: ITGB3\n",
      "\n",
      "\n",
      "1. Pulse 1 para el listado de los genes\n",
      "2. Pulse 2 para ver las proteinas de un gen \n",
      "3. Pulse 3 para ver la secuencia de la proteina\n",
      "4. Pulse 4 para salir del programa\n"
     ]
    },
    {
     "name": "stdin",
     "output_type": "stream",
     "text": [
      "\n",
      "Indique el opción que desea ejecutar (1, 2 , 3 , o 4):  2\n"
     ]
    },
    {
     "name": "stdout",
     "output_type": "stream",
     "text": [
      "Este es el listado de los identificadores de las proteinas:\n",
      "1 ENSP00000262407\n",
      "2 ENSP00000300305\n",
      "3 ENSP00000308782\n",
      "4 ENSP00000334552\n",
      "5 ENSP00000340690\n",
      "6 ENSP00000351123\n",
      "7 ENSP00000365255\n",
      "8 ENSP00000382182\n",
      "9 ENSP00000382184\n",
      "10 ENSP00000388189\n",
      "11 ENSP00000394152\n",
      "12 ENSP00000394922\n",
      "13 ENSP00000405112\n",
      "14 ENSP00000405158\n",
      "15 ENSP00000409227\n",
      "16 ENSP00000452786\n",
      "17 ENSP00000461626\n",
      "18 ENSP00000464922\n",
      "19 ENSP00000465586\n",
      "20 ENSP00000467269\n",
      "21 ENSP00000477067\n",
      "22 ENSP00000477072\n",
      "23 ENSP00000498119\n",
      "24 ENSP00000501607\n",
      "25 ENSP00000501943\n",
      "26 ENSP00000501975\n",
      "27 ENSP00000502093\n",
      "28 ENSP00000502237\n",
      "29 ENSP00000502355\n",
      "30 ENSP00000502438\n",
      "31 ENSP00000502448\n",
      "32 ENSP00000502506\n",
      "33 ENSP00000502611\n",
      "34 ENSP00000502704\n",
      "35 ENSP00000502724\n",
      "36 ENSP00000502733\n",
      "37 ENSP00000513002\n"
     ]
    },
    {
     "name": "stdin",
     "output_type": "stream",
     "text": [
      "Introduzca \"gene_ensembl\" o \"gene_symbol\" para verlos en detalle.Para volver atrás escriba \"return\" ENSP00000498119\n"
     ]
    },
    {
     "name": "stdout",
     "output_type": "stream",
     "text": [
      "La palabra ENSP00000498119 introducida es incorrecta\n"
     ]
    },
    {
     "name": "stdin",
     "output_type": "stream",
     "text": [
      "Introduzca \"gene_ensembl\" o \"gene_symbol\" para verlos en detalle.Para volver atrás escriba \"return\" gene_ensembl\n",
      "Introduzca el id de la proteina de la cual desea ver el \"gene_ensembl\":  ENSP00000498119\n"
     ]
    },
    {
     "name": "stdout",
     "output_type": "stream",
     "text": [
      "ENSG00000005961\n"
     ]
    }
   ],
   "source": [
    "def opcion1(mycursor):\n",
    "    mycursor.execute(\"SELECT * FROM genep2\") #seleccionamos todas las filas de la tabla genep2\n",
    "    myresult = mycursor.fetchall()\n",
    "    diccionario_genes={}\n",
    "    for x in myresult:\n",
    "        diccionario_genes[x[0]]=x[1] #este diccionario nos almacena el valor de gene_ensembl como clave y como valor, los valores correspondientes a gene_symbol\n",
    "    return diccionario_genes\n",
    "\n",
    "def opcion2(mycursor, diccionario_genes):\n",
    "    mycursor.execute(\"SELECT * FROM proteinp2\") #seleccionamos todas las filas de la tabla proteinp2\n",
    "    myresult = mycursor.fetchall()\n",
    "    dict_prot={}\n",
    "    index=1\n",
    "    print(\"Este es el listado de los identificadores de las proteinas:\")\n",
    "    for x in myresult:\n",
    "        id_prot=x[0] #estamos cogiendo los valores de la columna denominada protein_ensembl,es decir, los valores de los identificadores de las proteinas\n",
    "        gene_ensembl=x[1] #estamos cogiendo los valores correspodientes a la columna gene_ensembl, es decir, los valores de los identifcadores de los genes\n",
    "        dict_prot[id_prot]=gene_ensembl #se genera un diccionario con el identificador de la proteina como clave y como valor el identifcador del gen para usarlo en los pasos posteriores\n",
    "        print(index,id_prot)\n",
    "        index=index+1\n",
    "    while True:\n",
    "        gene=input(\"Introduzca \\\"gene_ensembl\\\" o \\\"gene_symbol\\\" para verlos en detalle.Para volver atrás escriba \\\"return\\\"\")\n",
    "        if gene==\"return\":\n",
    "            break\n",
    "        else:\n",
    "            if gene==\"gene_ensembl\":\n",
    "                prot=input(\"Introduzca el id de la proteina de la cual desea ver el \\\"gene_ensembl\\\": \")\n",
    "                if prot not in dict_prot.keys(): \n",
    "                    print(\"La proteina\",prot,\"no se encuentra. Prueba de nuevo\") #imprime este mensaje por pantalla si el valor que le otrogamos a prot no esta en las claves del diccionario dict_prot\n",
    "                for key,value in dict_prot.items():\n",
    "                    if prot == key: #si el identificador de la proteina introducido coincide con alguna clave del diccionario \n",
    "                        for key1,value1 in diccionario_genes.items(): #se busca en el diccionario_genes la clave que coincida con el valor de dict_prot e imprimimos la clave de diccionario_genes\n",
    "                            if key1==value: \n",
    "                                print(key1)\n",
    "                                \n",
    "            elif gene==\"gene_symbol\":\n",
    "                prot=input(\"Introduzca el id de la proteina de la cual desea ver el \\\"gene_symbol\\\": \")\n",
    "                if prot not in dict_prot.keys():\n",
    "                    print(\"La proteina\",prot,\"no se encuentra. Prueba de nuevo\")\n",
    "                for key,value in dict_prot.items():\n",
    "                    if prot == key: #si el identificador de la proteina introducido coincide con alguna clave del diccionario\n",
    "                        for key1,value1 in diccionario_genes.items(): #se busca en el diccionario_genes la clave que coincida con el valor de dict_prot e imprimimos el valor correspodiente de diccionario_genes\n",
    "                            if key1==value:\n",
    "                                print(value1)\n",
    "            else:\n",
    "                print(\"La palabra\",gene, \"introducida es incorrecta\")\n",
    "    \n",
    "def opcion3(mycursor):\n",
    "    mycursor.execute(\"SELECT * FROM proteinp2\") #seleccionamos todas las filas de la tabla proteinp2\n",
    "    myresult = mycursor.fetchall() #Le indicamos que nos cargue todos los valores recuperados\n",
    "    dict_prot2={}\n",
    "    for x in myresult:\n",
    "        keys=x[0] #tomará los valores correspodientes con los id de las proteinas\n",
    "        values=x[2] #tomará los valores correspodientes con las secuencias de aminoácidos\n",
    "        dict_prot2[keys]=values #se genera un diccionario para almacenar como clave el identificador de la proteina y como valor la secuencia de aminoácidos correspodientes\n",
    "    while True:\n",
    "        proteinName = input(\"Introduzca el id del protein_ensembl del cual desea ver su secuencia o teclea return para retroceder: \")\n",
    "        if proteinName == \"return\":\n",
    "            break\n",
    "        if not proteinName in dict_prot2.keys(): \n",
    "            print(\"El identificador \" + proteinName +\" no existe. Prueba otra vez\")\n",
    "        else:\n",
    "            for key,value in dict_prot2.items():\n",
    "                if (key == proteinName): #si el identificador de la proteina introducido, coincide con alguna clave del diccionario se imprimirá el valor(secuencia de aminoácidos) correspondiente\n",
    "                    print(value)\n",
    "                             \n",
    "def main():\n",
    "    # Realizamos el proceso de login para obtener el cursor() de la base de datos\n",
    "    mydb=login()\n",
    "    mycursor = mydb.cursor()\n",
    "    diccionario_genes = opcion1(mycursor)   \n",
    "    #Entrada del usuario\n",
    "    while True:\n",
    "        print(\"\\n\\n1. Pulse 1 para el listado de los genes\")\n",
    "        print(\"2. Pulse 2 para ver las proteinas de un gen \")\n",
    "        print(\"3. Pulse 3 para ver la secuencia de la proteina\")\n",
    "        print(\"4. Pulse 4 para salir del programa\")\n",
    "        opcion = input(\"\\nIndique el opción que desea ejecutar (1, 2 , 3 , o 4): \")\n",
    "        if opcion == \"1\":\n",
    "            opcion1(mycursor)\n",
    "            for i, j in diccionario_genes.items():\n",
    "                print(\"\".join([\"gene_esembl: \",i ,\"; gene_symbol: \",j]))\n",
    "        elif opcion == \"2\":\n",
    "            opcion2(mycursor, diccionario_genes)\n",
    "        elif opcion == \"3\":\n",
    "            opcion3(mycursor)\n",
    "        elif opcion == \"4\":\n",
    "            break\n",
    "        else:\n",
    "            print(\"La opción indicada no está disponible. Pruebe con las siguientes:\\n\")\n",
    "    # SIEMPRE cerrar cuando se termine de usar\n",
    "    mycursor.close()\n",
    "    print(\"El programa ha finalizado correctamente.\")\n",
    "    \n",
    "if __name__ == \"__main__\":\n",
    "    main()"
   ]
  },
  {
   "cell_type": "code",
   "execution_count": null,
   "id": "ce3e1723-79a6-4a39-90ec-7dcbb004e96d",
   "metadata": {},
   "outputs": [],
   "source": []
  }
 ],
 "metadata": {
  "kernelspec": {
   "display_name": "Python3.8",
   "language": "python",
   "name": "python3.8"
  },
  "language_info": {
   "codemirror_mode": {
    "name": "ipython",
    "version": 3
   },
   "file_extension": ".py",
   "mimetype": "text/x-python",
   "name": "python",
   "nbconvert_exporter": "python",
   "pygments_lexer": "ipython3",
   "version": "3.8.5"
  }
 },
 "nbformat": 4,
 "nbformat_minor": 5
}
